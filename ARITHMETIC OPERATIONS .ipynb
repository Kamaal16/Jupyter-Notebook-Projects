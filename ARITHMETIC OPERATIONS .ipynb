{
 "cells": [
  {
   "cell_type": "markdown",
   "id": "c3c0c268",
   "metadata": {},
   "source": [
    "## Arithmetic Operations "
   ]
  },
  {
   "cell_type": "markdown",
   "id": "6011a8f6",
   "metadata": {},
   "source": [
    "### Addition "
   ]
  },
  {
   "cell_type": "code",
   "execution_count": 1,
   "id": "9bd3c6bf",
   "metadata": {},
   "outputs": [
    {
     "data": {
      "text/plain": [
       "200"
      ]
     },
     "execution_count": 1,
     "metadata": {},
     "output_type": "execute_result"
    }
   ],
   "source": [
    "155 + 45 "
   ]
  },
  {
   "cell_type": "markdown",
   "id": "aee27d5c",
   "metadata": {},
   "source": [
    "### Subtraction"
   ]
  },
  {
   "cell_type": "code",
   "execution_count": 2,
   "id": "94df07e3",
   "metadata": {},
   "outputs": [
    {
     "data": {
      "text/plain": [
       "41"
      ]
     },
     "execution_count": 2,
     "metadata": {},
     "output_type": "execute_result"
    }
   ],
   "source": [
    "200 - 159"
   ]
  },
  {
   "cell_type": "markdown",
   "id": "83b33cca",
   "metadata": {},
   "source": [
    "### Multiplication "
   ]
  },
  {
   "cell_type": "code",
   "execution_count": 3,
   "id": "503462b5",
   "metadata": {},
   "outputs": [
    {
     "data": {
      "text/plain": [
       "60"
      ]
     },
     "execution_count": 3,
     "metadata": {},
     "output_type": "execute_result"
    }
   ],
   "source": [
    "12 * 5 "
   ]
  },
  {
   "cell_type": "markdown",
   "id": "f59f2bfe",
   "metadata": {},
   "source": [
    "### Division"
   ]
  },
  {
   "cell_type": "code",
   "execution_count": 4,
   "id": "486da1d3",
   "metadata": {},
   "outputs": [
    {
     "data": {
      "text/plain": [
       "4.0"
      ]
     },
     "execution_count": 4,
     "metadata": {},
     "output_type": "execute_result"
    }
   ],
   "source": [
    "20 / 5 "
   ]
  },
  {
   "cell_type": "markdown",
   "id": "f2d445b1",
   "metadata": {},
   "source": [
    "### Exponent "
   ]
  },
  {
   "cell_type": "code",
   "execution_count": 5,
   "id": "8177d054",
   "metadata": {},
   "outputs": [
    {
     "data": {
      "text/plain": [
       "16"
      ]
     },
     "execution_count": 5,
     "metadata": {},
     "output_type": "execute_result"
    }
   ],
   "source": [
    "2 ** 4 "
   ]
  },
  {
   "cell_type": "markdown",
   "id": "64aa1ed8",
   "metadata": {},
   "source": [
    "### Quotient "
   ]
  },
  {
   "cell_type": "code",
   "execution_count": 6,
   "id": "254d5bff",
   "metadata": {},
   "outputs": [
    {
     "data": {
      "text/plain": [
       "6"
      ]
     },
     "execution_count": 6,
     "metadata": {},
     "output_type": "execute_result"
    }
   ],
   "source": [
    "18 // 3 "
   ]
  },
  {
   "cell_type": "markdown",
   "id": "b046dc8a",
   "metadata": {},
   "source": [
    "### Remainder "
   ]
  },
  {
   "cell_type": "code",
   "execution_count": 7,
   "id": "2771d268",
   "metadata": {},
   "outputs": [
    {
     "data": {
      "text/plain": [
       "1"
      ]
     },
     "execution_count": 7,
     "metadata": {},
     "output_type": "execute_result"
    }
   ],
   "source": [
    "11 % 2 "
   ]
  },
  {
   "cell_type": "markdown",
   "id": "5ffee231",
   "metadata": {},
   "source": [
    "### Factorial using Math Library "
   ]
  },
  {
   "cell_type": "code",
   "execution_count": 8,
   "id": "021e8770",
   "metadata": {},
   "outputs": [],
   "source": [
    "import math "
   ]
  },
  {
   "cell_type": "code",
   "execution_count": 9,
   "id": "21d64b69",
   "metadata": {},
   "outputs": [
    {
     "data": {
      "text/plain": [
       "6"
      ]
     },
     "execution_count": 9,
     "metadata": {},
     "output_type": "execute_result"
    }
   ],
   "source": [
    "math.factorial(3)"
   ]
  },
  {
   "cell_type": "markdown",
   "id": "7a4d8537",
   "metadata": {},
   "source": [
    "### Pi ( Finding The Area of a Circle Using Arithmetic Operation )"
   ]
  },
  {
   "cell_type": "code",
   "execution_count": 10,
   "id": "75ccb98e",
   "metadata": {},
   "outputs": [
    {
     "data": {
      "text/plain": [
       "314.0"
      ]
     },
     "execution_count": 10,
     "metadata": {},
     "output_type": "execute_result"
    }
   ],
   "source": [
    "radius = 10 \n",
    "pi = 3.14\n",
    "area = 3.14 * 10 ** 2 \n",
    "area "
   ]
  },
  {
   "cell_type": "markdown",
   "id": "b6cd678e",
   "metadata": {},
   "source": [
    "### Pi ( Finding The Area of a Circle Using Math Library )\n"
   ]
  },
  {
   "cell_type": "code",
   "execution_count": 11,
   "id": "9c6d0973",
   "metadata": {},
   "outputs": [
    {
     "data": {
      "text/plain": [
       "314.1592653589793"
      ]
     },
     "execution_count": 11,
     "metadata": {},
     "output_type": "execute_result"
    }
   ],
   "source": [
    "import math \n",
    "radius = 10 \n",
    "area = math.pi * radius ** 2 \n",
    "area "
   ]
  }
 ],
 "metadata": {
  "kernelspec": {
   "display_name": "Python 3 (ipykernel)",
   "language": "python",
   "name": "python3"
  },
  "language_info": {
   "codemirror_mode": {
    "name": "ipython",
    "version": 3
   },
   "file_extension": ".py",
   "mimetype": "text/x-python",
   "name": "python",
   "nbconvert_exporter": "python",
   "pygments_lexer": "ipython3",
   "version": "3.9.7"
  }
 },
 "nbformat": 4,
 "nbformat_minor": 5
}
