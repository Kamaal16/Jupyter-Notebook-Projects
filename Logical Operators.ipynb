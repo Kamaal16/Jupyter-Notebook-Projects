{
 "cells": [
  {
   "cell_type": "markdown",
   "id": "3e852f2e",
   "metadata": {},
   "source": [
    "# Logical Operators "
   ]
  },
  {
   "cell_type": "markdown",
   "id": "2a74738c",
   "metadata": {},
   "source": [
    "## Logical And"
   ]
  },
  {
   "cell_type": "code",
   "execution_count": 2,
   "id": "0854a7c2",
   "metadata": {},
   "outputs": [
    {
     "name": "stdout",
     "output_type": "stream",
     "text": [
      "How is todays Idly? Good or Bad?: Good\n",
      "How is chutney? Good or Bad?: Good\n"
     ]
    }
   ],
   "source": [
    "idly = input('How is today''s Idly? Good or Bad?: ')\n",
    "chutney = input ('How is chutney? Good or Bad?: ')"
   ]
  },
  {
   "cell_type": "code",
   "execution_count": 4,
   "id": "5d62d50e",
   "metadata": {},
   "outputs": [
    {
     "name": "stdout",
     "output_type": "stream",
     "text": [
      "Today Breakfast was Good!\n"
     ]
    }
   ],
   "source": [
    "if idly == 'Good' and chutney == 'Good':\n",
    "    print ('Today Breakfast was Good!')\n",
    "else:\n",
    "    print ('Today Breakfast was Bad!')\n",
    "    \n",
    "\n"
   ]
  },
  {
   "cell_type": "code",
   "execution_count": 5,
   "id": "a7ff9bf5",
   "metadata": {},
   "outputs": [
    {
     "name": "stdout",
     "output_type": "stream",
     "text": [
      "How is todays Idly? Good or Bad?: Good \n",
      "How is chutney? Good or Bad?: Bad\n"
     ]
    }
   ],
   "source": [
    "idly = input('How is today''s Idly? Good or Bad?: ')\n",
    "chutney = input ('How is chutney? Good or Bad?: ')"
   ]
  },
  {
   "cell_type": "code",
   "execution_count": 6,
   "id": "aa1143b1",
   "metadata": {},
   "outputs": [
    {
     "name": "stdout",
     "output_type": "stream",
     "text": [
      "Today Breakfast was Bad!\n"
     ]
    }
   ],
   "source": [
    "if idly == 'Good' and chutney == 'Good':\n",
    "    print ('Today Breakfast was Good!')\n",
    "else:\n",
    "    print ('Today Breakfast was Bad!')\n",
    "    "
   ]
  },
  {
   "cell_type": "code",
   "execution_count": 7,
   "id": "efe095d7",
   "metadata": {},
   "outputs": [
    {
     "name": "stdout",
     "output_type": "stream",
     "text": [
      "How is todays Idly? Good or Bad?: Bad\n",
      "How is chutney? Good or Bad?: Good\n"
     ]
    }
   ],
   "source": [
    "idly = input('How is today''s Idly? Good or Bad?: ')\n",
    "chutney = input ('How is chutney? Good or Bad?: ')"
   ]
  },
  {
   "cell_type": "code",
   "execution_count": 8,
   "id": "3ee72cfe",
   "metadata": {},
   "outputs": [
    {
     "name": "stdout",
     "output_type": "stream",
     "text": [
      "Today Breakfast was Bad!\n"
     ]
    }
   ],
   "source": [
    "if idly == 'Good' and chutney == 'Good':\n",
    "    print ('Today Breakfast was Good!')\n",
    "else:\n",
    "    print ('Today Breakfast was Bad!')\n",
    "    "
   ]
  },
  {
   "cell_type": "code",
   "execution_count": 9,
   "id": "2b1a06e0",
   "metadata": {},
   "outputs": [
    {
     "name": "stdout",
     "output_type": "stream",
     "text": [
      "How is todays Idly? Good or Bad?: Bad\n",
      "How is chutney? Good or Bad?: Bad\n"
     ]
    }
   ],
   "source": [
    "idly = input('How is today''s Idly? Good or Bad?: ')\n",
    "chutney = input ('How is chutney? Good or Bad?: ')"
   ]
  },
  {
   "cell_type": "code",
   "execution_count": 10,
   "id": "0e95b55a",
   "metadata": {},
   "outputs": [
    {
     "name": "stdout",
     "output_type": "stream",
     "text": [
      "Today Breakfast was Bad!\n"
     ]
    }
   ],
   "source": [
    "if idly == 'Good' and chutney == 'Good':\n",
    "    print ('Today Breakfast was Good!')\n",
    "else:\n",
    "    print ('Today Breakfast was Bad!')\n",
    "    "
   ]
  },
  {
   "cell_type": "markdown",
   "id": "bec09f20",
   "metadata": {},
   "source": [
    "## Logical Or"
   ]
  },
  {
   "cell_type": "code",
   "execution_count": 23,
   "id": "caef3210",
   "metadata": {},
   "outputs": [
    {
     "name": "stdout",
     "output_type": "stream",
     "text": [
      "Have you Won the lottery1? Yes or No ?: Yes\n",
      "Have you Won the lottery2? Yes or No ?: Yes\n"
     ]
    }
   ],
   "source": [
    "lottery1 = input ('Have you Won the lottery1? Yes or No ?: ')\n",
    "lottery2 = input ('Have you Won the lottery2? Yes or No ?: ')"
   ]
  },
  {
   "cell_type": "code",
   "execution_count": 25,
   "id": "64cd6358",
   "metadata": {},
   "outputs": [
    {
     "name": "stdout",
     "output_type": "stream",
     "text": [
      "You are lucky today!!\n"
     ]
    }
   ],
   "source": [
    "if lottery1 == 'Yes' or lottery2 == 'Yes':\n",
    "    print ('You are lucky today!!')\n",
    "else:\n",
    "    print ('Better luck next time!')"
   ]
  },
  {
   "cell_type": "code",
   "execution_count": 26,
   "id": "902343ee",
   "metadata": {},
   "outputs": [
    {
     "name": "stdout",
     "output_type": "stream",
     "text": [
      "Have you Won the lottery1? Yes or No ?: No \n",
      "Have you Won the lottery2? Yes or No ?: Yes\n"
     ]
    }
   ],
   "source": [
    "lottery1 = input ('Have you Won the lottery1? Yes or No ?: ')\n",
    "lottery2 = input ('Have you Won the lottery2? Yes or No ?: ')"
   ]
  },
  {
   "cell_type": "code",
   "execution_count": 27,
   "id": "be3eaecc",
   "metadata": {},
   "outputs": [
    {
     "name": "stdout",
     "output_type": "stream",
     "text": [
      "You are lucky today!!\n"
     ]
    }
   ],
   "source": [
    "if lottery1 == 'Yes' or lottery2 == 'Yes':\n",
    "    print ('You are lucky today!!')\n",
    "else:\n",
    "    print ('Better luck next time!')"
   ]
  },
  {
   "cell_type": "code",
   "execution_count": 28,
   "id": "b9a3acf5",
   "metadata": {},
   "outputs": [
    {
     "name": "stdout",
     "output_type": "stream",
     "text": [
      "Have you Won the lottery1? Yes or No ?: Yes\n",
      "Have you Won the lottery2? Yes or No ?: No\n"
     ]
    }
   ],
   "source": [
    "lottery1 = input ('Have you Won the lottery1? Yes or No ?: ')\n",
    "lottery2 = input ('Have you Won the lottery2? Yes or No ?: ')"
   ]
  },
  {
   "cell_type": "code",
   "execution_count": 29,
   "id": "dc580dd0",
   "metadata": {},
   "outputs": [
    {
     "name": "stdout",
     "output_type": "stream",
     "text": [
      "You are lucky today!!\n"
     ]
    }
   ],
   "source": [
    "if lottery1 == 'Yes' or lottery2 == 'Yes':\n",
    "    print ('You are lucky today!!')\n",
    "else:\n",
    "    print ('Better luck next time!')"
   ]
  },
  {
   "cell_type": "code",
   "execution_count": 30,
   "id": "22682b9d",
   "metadata": {},
   "outputs": [
    {
     "name": "stdout",
     "output_type": "stream",
     "text": [
      "Have you Won the lottery1? Yes or No ?: No\n",
      "Have you Won the lottery2? Yes or No ?: No\n"
     ]
    }
   ],
   "source": [
    "lottery1 = input ('Have you Won the lottery1? Yes or No ?: ')\n",
    "lottery2 = input ('Have you Won the lottery2? Yes or No ?: ')"
   ]
  },
  {
   "cell_type": "code",
   "execution_count": 31,
   "id": "51a1ba65",
   "metadata": {},
   "outputs": [
    {
     "name": "stdout",
     "output_type": "stream",
     "text": [
      "Better luck next time!\n"
     ]
    }
   ],
   "source": [
    "if lottery1 == 'Yes' or lottery2 == 'Yes':\n",
    "    print ('You are lucky today!!')\n",
    "else:\n",
    "    print ('Better luck next time!')"
   ]
  },
  {
   "cell_type": "markdown",
   "id": "3d0dcaf9",
   "metadata": {},
   "source": [
    "## Logical None"
   ]
  },
  {
   "cell_type": "code",
   "execution_count": 32,
   "id": "9919b739",
   "metadata": {},
   "outputs": [
    {
     "name": "stdout",
     "output_type": "stream",
     "text": [
      "No Entry\n"
     ]
    }
   ],
   "source": [
    "mask = None \n",
    "mask = 0 \n",
    "mask = ''\n",
    "\n",
    "if not mask:\n",
    "    print ('No Entry')"
   ]
  }
 ],
 "metadata": {
  "kernelspec": {
   "display_name": "Python 3 (ipykernel)",
   "language": "python",
   "name": "python3"
  },
  "language_info": {
   "codemirror_mode": {
    "name": "ipython",
    "version": 3
   },
   "file_extension": ".py",
   "mimetype": "text/x-python",
   "name": "python",
   "nbconvert_exporter": "python",
   "pygments_lexer": "ipython3",
   "version": "3.9.7"
  }
 },
 "nbformat": 4,
 "nbformat_minor": 5
}
