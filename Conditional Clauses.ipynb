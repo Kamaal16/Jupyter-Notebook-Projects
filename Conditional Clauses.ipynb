{
 "cells": [
  {
   "cell_type": "markdown",
   "id": "01be8e57",
   "metadata": {},
   "source": [
    "# Conditional Clauses "
   ]
  },
  {
   "cell_type": "markdown",
   "id": "c82bf18d",
   "metadata": {},
   "source": [
    "## Single Condition / If Clause"
   ]
  },
  {
   "cell_type": "code",
   "execution_count": 1,
   "id": "c0aa7fa0",
   "metadata": {},
   "outputs": [
    {
     "name": "stdout",
     "output_type": "stream",
     "text": [
      "Do you accept our terms and conditions ? Yes or No Yes \n"
     ]
    }
   ],
   "source": [
    "agreed = input ('Do you accept our terms and conditions ? Yes or No ')"
   ]
  },
  {
   "cell_type": "code",
   "execution_count": 2,
   "id": "1bb8047d",
   "metadata": {},
   "outputs": [],
   "source": [
    "if agreed == 'Yes' :\n",
    "    print ('Enable Signup button')"
   ]
  },
  {
   "cell_type": "markdown",
   "id": "fe421195",
   "metadata": {},
   "source": [
    "## Two Conditions / If else Conditions"
   ]
  },
  {
   "cell_type": "code",
   "execution_count": 3,
   "id": "ea754725",
   "metadata": {},
   "outputs": [
    {
     "name": "stdout",
     "output_type": "stream",
     "text": [
      "Enter your age: 20\n"
     ]
    }
   ],
   "source": [
    "age = input ('Enter your age: ')\n",
    "age = int (age)"
   ]
  },
  {
   "cell_type": "code",
   "execution_count": 10,
   "id": "c4d16266",
   "metadata": {},
   "outputs": [
    {
     "name": "stdout",
     "output_type": "stream",
     "text": [
      "Include Horror Movies\n"
     ]
    }
   ],
   "source": [
    "if age>18:\n",
    "    print('Include Horror Movies')\n",
    "else:\n",
    "    print('Include Comedy Movies')"
   ]
  },
  {
   "cell_type": "code",
   "execution_count": 11,
   "id": "5b512fb4",
   "metadata": {},
   "outputs": [
    {
     "name": "stdout",
     "output_type": "stream",
     "text": [
      "Enter your age: 10\n"
     ]
    }
   ],
   "source": [
    "age = input ('Enter your age: ')\n",
    "age = int (age)"
   ]
  },
  {
   "cell_type": "code",
   "execution_count": 12,
   "id": "a761846e",
   "metadata": {},
   "outputs": [
    {
     "name": "stdout",
     "output_type": "stream",
     "text": [
      "Include Comedy Movies\n"
     ]
    }
   ],
   "source": [
    "if age>18:\n",
    "    print('Include Horror Movies')\n",
    "else:\n",
    "    print('Include Comedy Movies')"
   ]
  },
  {
   "cell_type": "markdown",
   "id": "020aca2e",
   "metadata": {},
   "source": [
    "## Multiple Conditions / If elif elif else"
   ]
  },
  {
   "cell_type": "code",
   "execution_count": 22,
   "id": "813a95f6",
   "metadata": {},
   "outputs": [
    {
     "name": "stdout",
     "output_type": "stream",
     "text": [
      "Enter State: Canada\n"
     ]
    }
   ],
   "source": [
    "state = input(\"Enter State: \")"
   ]
  },
  {
   "cell_type": "code",
   "execution_count": 23,
   "id": "710c50f7",
   "metadata": {},
   "outputs": [
    {
     "name": "stdout",
     "output_type": "stream",
     "text": [
      "Reommend English Movies \n"
     ]
    }
   ],
   "source": [
    "if state == 'Tamil Nadu':\n",
    "    print('Tamil Movies')\n",
    "elif state == 'Karnataka':\n",
    "    print('Kannada Movies')\n",
    "elif state == 'Punjab':\n",
    "    print('Hindi Movies')\n",
    "elif state == 'Mahrashtra':\n",
    "    print('Marathi Movies')\n",
    "else: \n",
    "    print ('Reommend English Movies ')\n",
    "\n"
   ]
  }
 ],
 "metadata": {
  "kernelspec": {
   "display_name": "Python 3 (ipykernel)",
   "language": "python",
   "name": "python3"
  },
  "language_info": {
   "codemirror_mode": {
    "name": "ipython",
    "version": 3
   },
   "file_extension": ".py",
   "mimetype": "text/x-python",
   "name": "python",
   "nbconvert_exporter": "python",
   "pygments_lexer": "ipython3",
   "version": "3.9.7"
  }
 },
 "nbformat": 4,
 "nbformat_minor": 5
}
